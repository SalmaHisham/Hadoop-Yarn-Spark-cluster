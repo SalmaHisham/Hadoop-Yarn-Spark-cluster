{
 "cells": [
  {
   "cell_type": "markdown",
   "metadata": {},
   "source": [
    "# **E-commerce Customer Behavior Analysis** \n",
    "\n",
    "**Team Members:**\n",
    "- Norhan Mohamed Swar, 231000486\n",
    "- Nagwa Saad Abo shabaan, 231002541\n",
    "- Salma Hisham Mohamed, 231000533\n",
    "\n",
    "___"
   ]
  },
  {
   "cell_type": "markdown",
   "metadata": {},
   "source": [
    "# `00` Import Dependencies"
   ]
  },
  {
   "cell_type": "code",
   "execution_count": 322,
   "metadata": {},
   "outputs": [],
   "source": [
    "# Install Dependencies\n",
    "# pip install yellowbrick pyspark\n"
   ]
  },
  {
   "cell_type": "code",
   "execution_count": 304,
   "metadata": {},
   "outputs": [],
   "source": [
    "# For Manipulation\n",
    "import pandas as pd\n",
    "import numpy as np\n",
    "# For Visualization\n",
    "import matplotlib.pyplot as plt\n",
    "import seaborn as sns\n",
    "# For pyspark usage\n",
    "from pyspark.sql import SparkSession\n",
    "import pyspark.sql.functions as fn\n",
    "from pyspark.sql.functions import when\n",
    "from pyspark.sql.functions import col\n",
    "from pyspark.ml.feature import StringIndexer, OneHotEncoder, StandardScaler\n",
    "from pyspark.ml.feature import VectorAssembler\n",
    "from pyspark.ml.classification import LogisticRegression\n",
    "from pyspark.ml import Pipeline\n",
    "from pyspark.ml.evaluation import MulticlassClassificationEvaluator\n",
    "from pyspark.mllib.evaluation import MulticlassMetrics\n",
    "from pyspark.ml.feature import StandardScaler, StandardScalerModel\n",
    "from pyspark.ml.clustering import KMeans\n",
    "from yellowbrick.cluster import KElbowVisualizer\n",
    "from pyspark.ml.evaluation import ClusteringEvaluator"
   ]
  },
  {
   "cell_type": "markdown",
   "metadata": {},
   "source": [
    "# `01` Initialize Spark Session and Read Data"
   ]
  },
  {
   "cell_type": "code",
   "execution_count": 305,
   "metadata": {},
   "outputs": [],
   "source": [
    "# Initializing Spark Session\n",
    "spark = SparkSession.builder.appName(\"CustomerSegmentation\").getOrCreate()"
   ]
  },
  {
   "cell_type": "code",
   "execution_count": 306,
   "metadata": {},
   "outputs": [
    {
     "name": "stdout",
     "output_type": "stream",
     "text": [
      "+-----------+------+---+-------------+---------------+-----------+---------------+--------------+----------------+------------------------+------------------+\n",
      "|Customer ID|Gender|Age|         City|Membership Type|Total Spend|Items Purchased|Average Rating|Discount Applied|Days Since Last Purchase|Satisfaction Level|\n",
      "+-----------+------+---+-------------+---------------+-----------+---------------+--------------+----------------+------------------------+------------------+\n",
      "|        101|Female| 29|     New York|           Gold|     1120.2|             14|           4.6|            true|                      25|         Satisfied|\n",
      "|        102|  Male| 34|  Los Angeles|         Silver|      780.5|             11|           4.1|           false|                      18|           Neutral|\n",
      "|        103|Female| 43|      Chicago|         Bronze|     510.75|              9|           3.4|            true|                      42|       Unsatisfied|\n",
      "|        104|  Male| 30|San Francisco|           Gold|     1480.3|             19|           4.7|           false|                      12|         Satisfied|\n",
      "|        105|  Male| 27|        Miami|         Silver|      720.4|             13|           4.0|            true|                      55|       Unsatisfied|\n",
      "|        106|Female| 37|      Houston|         Bronze|      440.8|              8|           3.1|           false|                      22|           Neutral|\n",
      "|        107|Female| 31|     New York|           Gold|     1150.6|             15|           4.5|            true|                      28|         Satisfied|\n",
      "|        108|  Male| 35|  Los Angeles|         Silver|      800.9|             12|           4.2|           false|                      14|           Neutral|\n",
      "|        109|Female| 41|      Chicago|         Bronze|     495.25|             10|           3.6|            true|                      40|       Unsatisfied|\n",
      "|        110|  Male| 28|San Francisco|           Gold|     1520.1|             21|           4.8|           false|                       9|         Satisfied|\n",
      "+-----------+------+---+-------------+---------------+-----------+---------------+--------------+----------------+------------------------+------------------+\n",
      "only showing top 10 rows\n",
      "\n"
     ]
    }
   ],
   "source": [
    "# Loading The Dataset\n",
    "customer_data = spark.read.csv(\"E-commerce Customer Behavior.csv\", header=True, inferSchema=True)\n",
    "customer_data.show(10)\n"
   ]
  },
  {
   "cell_type": "markdown",
   "metadata": {},
   "source": [
    "# `02` Basic EDA"
   ]
  },
  {
   "cell_type": "code",
   "execution_count": 307,
   "metadata": {},
   "outputs": [
    {
     "name": "stdout",
     "output_type": "stream",
     "text": [
      "root\n",
      " |-- Customer ID: integer (nullable = true)\n",
      " |-- Gender: string (nullable = true)\n",
      " |-- Age: integer (nullable = true)\n",
      " |-- City: string (nullable = true)\n",
      " |-- Membership Type: string (nullable = true)\n",
      " |-- Total Spend: double (nullable = true)\n",
      " |-- Items Purchased: integer (nullable = true)\n",
      " |-- Average Rating: double (nullable = true)\n",
      " |-- Discount Applied: boolean (nullable = true)\n",
      " |-- Days Since Last Purchase: integer (nullable = true)\n",
      " |-- Satisfaction Level: string (nullable = true)\n",
      "\n"
     ]
    }
   ],
   "source": [
    "customer_data.printSchema()"
   ]
  },
  {
   "cell_type": "code",
   "execution_count": 308,
   "metadata": {},
   "outputs": [
    {
     "data": {
      "text/html": [
       "<div>\n",
       "<style scoped>\n",
       "    .dataframe tbody tr th:only-of-type {\n",
       "        vertical-align: middle;\n",
       "    }\n",
       "\n",
       "    .dataframe tbody tr th {\n",
       "        vertical-align: top;\n",
       "    }\n",
       "\n",
       "    .dataframe thead th {\n",
       "        text-align: right;\n",
       "    }\n",
       "</style>\n",
       "<table border=\"1\" class=\"dataframe\">\n",
       "  <thead>\n",
       "    <tr style=\"text-align: right;\">\n",
       "      <th></th>\n",
       "      <th>count</th>\n",
       "      <th>unique</th>\n",
       "      <th>top</th>\n",
       "      <th>freq</th>\n",
       "      <th>mean</th>\n",
       "      <th>std</th>\n",
       "      <th>min</th>\n",
       "      <th>25%</th>\n",
       "      <th>50%</th>\n",
       "      <th>75%</th>\n",
       "      <th>max</th>\n",
       "    </tr>\n",
       "  </thead>\n",
       "  <tbody>\n",
       "    <tr>\n",
       "      <th>Customer ID</th>\n",
       "      <td>350.0</td>\n",
       "      <td>NaN</td>\n",
       "      <td>NaN</td>\n",
       "      <td>NaN</td>\n",
       "      <td>275.5</td>\n",
       "      <td>101.180532</td>\n",
       "      <td>101.0</td>\n",
       "      <td>188.25</td>\n",
       "      <td>275.5</td>\n",
       "      <td>362.75</td>\n",
       "      <td>450.0</td>\n",
       "    </tr>\n",
       "    <tr>\n",
       "      <th>Gender</th>\n",
       "      <td>350</td>\n",
       "      <td>2</td>\n",
       "      <td>Female</td>\n",
       "      <td>175</td>\n",
       "      <td>NaN</td>\n",
       "      <td>NaN</td>\n",
       "      <td>NaN</td>\n",
       "      <td>NaN</td>\n",
       "      <td>NaN</td>\n",
       "      <td>NaN</td>\n",
       "      <td>NaN</td>\n",
       "    </tr>\n",
       "    <tr>\n",
       "      <th>Age</th>\n",
       "      <td>350.0</td>\n",
       "      <td>NaN</td>\n",
       "      <td>NaN</td>\n",
       "      <td>NaN</td>\n",
       "      <td>33.597143</td>\n",
       "      <td>4.870882</td>\n",
       "      <td>26.0</td>\n",
       "      <td>30.0</td>\n",
       "      <td>32.5</td>\n",
       "      <td>37.0</td>\n",
       "      <td>43.0</td>\n",
       "    </tr>\n",
       "    <tr>\n",
       "      <th>City</th>\n",
       "      <td>350</td>\n",
       "      <td>6</td>\n",
       "      <td>New York</td>\n",
       "      <td>59</td>\n",
       "      <td>NaN</td>\n",
       "      <td>NaN</td>\n",
       "      <td>NaN</td>\n",
       "      <td>NaN</td>\n",
       "      <td>NaN</td>\n",
       "      <td>NaN</td>\n",
       "      <td>NaN</td>\n",
       "    </tr>\n",
       "    <tr>\n",
       "      <th>Membership Type</th>\n",
       "      <td>350</td>\n",
       "      <td>3</td>\n",
       "      <td>Gold</td>\n",
       "      <td>117</td>\n",
       "      <td>NaN</td>\n",
       "      <td>NaN</td>\n",
       "      <td>NaN</td>\n",
       "      <td>NaN</td>\n",
       "      <td>NaN</td>\n",
       "      <td>NaN</td>\n",
       "      <td>NaN</td>\n",
       "    </tr>\n",
       "    <tr>\n",
       "      <th>Total Spend</th>\n",
       "      <td>350.0</td>\n",
       "      <td>NaN</td>\n",
       "      <td>NaN</td>\n",
       "      <td>NaN</td>\n",
       "      <td>845.381714</td>\n",
       "      <td>362.058695</td>\n",
       "      <td>410.8</td>\n",
       "      <td>502.0</td>\n",
       "      <td>775.2</td>\n",
       "      <td>1160.6</td>\n",
       "      <td>1520.1</td>\n",
       "    </tr>\n",
       "    <tr>\n",
       "      <th>Items Purchased</th>\n",
       "      <td>350.0</td>\n",
       "      <td>NaN</td>\n",
       "      <td>NaN</td>\n",
       "      <td>NaN</td>\n",
       "      <td>12.6</td>\n",
       "      <td>4.155984</td>\n",
       "      <td>7.0</td>\n",
       "      <td>9.0</td>\n",
       "      <td>12.0</td>\n",
       "      <td>15.0</td>\n",
       "      <td>21.0</td>\n",
       "    </tr>\n",
       "    <tr>\n",
       "      <th>Average Rating</th>\n",
       "      <td>350.0</td>\n",
       "      <td>NaN</td>\n",
       "      <td>NaN</td>\n",
       "      <td>NaN</td>\n",
       "      <td>4.019143</td>\n",
       "      <td>0.580539</td>\n",
       "      <td>3.0</td>\n",
       "      <td>3.5</td>\n",
       "      <td>4.1</td>\n",
       "      <td>4.5</td>\n",
       "      <td>4.9</td>\n",
       "    </tr>\n",
       "    <tr>\n",
       "      <th>Discount Applied</th>\n",
       "      <td>350</td>\n",
       "      <td>2</td>\n",
       "      <td>True</td>\n",
       "      <td>175</td>\n",
       "      <td>NaN</td>\n",
       "      <td>NaN</td>\n",
       "      <td>NaN</td>\n",
       "      <td>NaN</td>\n",
       "      <td>NaN</td>\n",
       "      <td>NaN</td>\n",
       "      <td>NaN</td>\n",
       "    </tr>\n",
       "    <tr>\n",
       "      <th>Days Since Last Purchase</th>\n",
       "      <td>350.0</td>\n",
       "      <td>NaN</td>\n",
       "      <td>NaN</td>\n",
       "      <td>NaN</td>\n",
       "      <td>26.588571</td>\n",
       "      <td>13.440813</td>\n",
       "      <td>9.0</td>\n",
       "      <td>15.0</td>\n",
       "      <td>23.0</td>\n",
       "      <td>38.0</td>\n",
       "      <td>63.0</td>\n",
       "    </tr>\n",
       "    <tr>\n",
       "      <th>Satisfaction Level</th>\n",
       "      <td>348</td>\n",
       "      <td>3</td>\n",
       "      <td>Satisfied</td>\n",
       "      <td>125</td>\n",
       "      <td>NaN</td>\n",
       "      <td>NaN</td>\n",
       "      <td>NaN</td>\n",
       "      <td>NaN</td>\n",
       "      <td>NaN</td>\n",
       "      <td>NaN</td>\n",
       "      <td>NaN</td>\n",
       "    </tr>\n",
       "  </tbody>\n",
       "</table>\n",
       "</div>"
      ],
      "text/plain": [
       "                          count unique        top freq        mean  \\\n",
       "Customer ID               350.0    NaN        NaN  NaN       275.5   \n",
       "Gender                      350      2     Female  175         NaN   \n",
       "Age                       350.0    NaN        NaN  NaN   33.597143   \n",
       "City                        350      6   New York   59         NaN   \n",
       "Membership Type             350      3       Gold  117         NaN   \n",
       "Total Spend               350.0    NaN        NaN  NaN  845.381714   \n",
       "Items Purchased           350.0    NaN        NaN  NaN        12.6   \n",
       "Average Rating            350.0    NaN        NaN  NaN    4.019143   \n",
       "Discount Applied            350      2       True  175         NaN   \n",
       "Days Since Last Purchase  350.0    NaN        NaN  NaN   26.588571   \n",
       "Satisfaction Level          348      3  Satisfied  125         NaN   \n",
       "\n",
       "                                 std    min     25%    50%     75%     max  \n",
       "Customer ID               101.180532  101.0  188.25  275.5  362.75   450.0  \n",
       "Gender                           NaN    NaN     NaN    NaN     NaN     NaN  \n",
       "Age                         4.870882   26.0    30.0   32.5    37.0    43.0  \n",
       "City                             NaN    NaN     NaN    NaN     NaN     NaN  \n",
       "Membership Type                  NaN    NaN     NaN    NaN     NaN     NaN  \n",
       "Total Spend               362.058695  410.8   502.0  775.2  1160.6  1520.1  \n",
       "Items Purchased             4.155984    7.0     9.0   12.0    15.0    21.0  \n",
       "Average Rating              0.580539    3.0     3.5    4.1     4.5     4.9  \n",
       "Discount Applied                 NaN    NaN     NaN    NaN     NaN     NaN  \n",
       "Days Since Last Purchase   13.440813    9.0    15.0   23.0    38.0    63.0  \n",
       "Satisfaction Level               NaN    NaN     NaN    NaN     NaN     NaN  "
      ]
     },
     "execution_count": 308,
     "metadata": {},
     "output_type": "execute_result"
    }
   ],
   "source": [
    "customer_df = customer_data.toPandas()\n",
    "customer_df.describe(include= 'all').T"
   ]
  },
  {
   "cell_type": "code",
   "execution_count": 309,
   "metadata": {},
   "outputs": [
    {
     "data": {
      "text/plain": [
       "Customer ID                 0\n",
       "Gender                      0\n",
       "Age                         0\n",
       "City                        0\n",
       "Membership Type             0\n",
       "Total Spend                 0\n",
       "Items Purchased             0\n",
       "Average Rating              0\n",
       "Discount Applied            0\n",
       "Days Since Last Purchase    0\n",
       "Satisfaction Level          2\n",
       "dtype: int64"
      ]
     },
     "execution_count": 309,
     "metadata": {},
     "output_type": "execute_result"
    }
   ],
   "source": [
    "customer_df.isnull().sum()"
   ]
  },
  {
   "cell_type": "markdown",
   "metadata": {},
   "source": [
    "\n",
    "### Explore Categorical columns\n"
   ]
  },
  {
   "cell_type": "code",
   "execution_count": 310,
   "metadata": {},
   "outputs": [
    {
     "name": "stdout",
     "output_type": "stream",
     "text": [
      "+------+\n",
      "|Gender|\n",
      "+------+\n",
      "|Female|\n",
      "|  Male|\n",
      "+------+\n",
      "\n"
     ]
    }
   ],
   "source": [
    "customer_data.select(['Gender']).distinct().show()"
   ]
  },
  {
   "cell_type": "code",
   "execution_count": 311,
   "metadata": {},
   "outputs": [
    {
     "name": "stdout",
     "output_type": "stream",
     "text": [
      "+-------------+\n",
      "|         City|\n",
      "+-------------+\n",
      "|  Los Angeles|\n",
      "|San Francisco|\n",
      "|      Chicago|\n",
      "|      Houston|\n",
      "|        Miami|\n",
      "|     New York|\n",
      "+-------------+\n",
      "\n"
     ]
    }
   ],
   "source": [
    "customer_data.select(['City']).distinct().show()\n"
   ]
  },
  {
   "cell_type": "code",
   "execution_count": 312,
   "metadata": {},
   "outputs": [
    {
     "name": "stdout",
     "output_type": "stream",
     "text": [
      "+---------------+\n",
      "|Membership Type|\n",
      "+---------------+\n",
      "|         Silver|\n",
      "|           Gold|\n",
      "|         Bronze|\n",
      "+---------------+\n",
      "\n"
     ]
    }
   ],
   "source": [
    "customer_data.select(['Membership Type']).distinct().show()"
   ]
  },
  {
   "cell_type": "code",
   "execution_count": 313,
   "metadata": {},
   "outputs": [
    {
     "name": "stdout",
     "output_type": "stream",
     "text": [
      "+------------------+\n",
      "|Satisfaction Level|\n",
      "+------------------+\n",
      "|       Unsatisfied|\n",
      "|         Satisfied|\n",
      "|           Neutral|\n",
      "|              NULL|\n",
      "+------------------+\n",
      "\n"
     ]
    }
   ],
   "source": [
    "customer_data.select(['Satisfaction Level']).distinct().show()"
   ]
  },
  {
   "cell_type": "markdown",
   "metadata": {},
   "source": [
    "# `03` Comprehensive E-Commerce Customer Behavior Analysis"
   ]
  },
  {
   "cell_type": "markdown",
   "metadata": {},
   "source": [
    "## Q1 : Can we segment customers based on their demographic information (Age, Gender, City) and shopping behaviors (Total Spend, Number of Items Purchased, Membership Type)"
   ]
  },
  {
   "cell_type": "markdown",
   "metadata": {},
   "source": [
    "### **Customer Segmentation based on 'Membership', 'Age', 'City', and 'Item Purchased':**\n"
   ]
  },
  {
   "cell_type": "code",
   "execution_count": 314,
   "metadata": {},
   "outputs": [
    {
     "name": "stdout",
     "output_type": "stream",
     "text": [
      "Customer Segmentation Result :  \n",
      "+---------------+-------------+-------------+--------------------+------------------+\n",
      "|Membership Type|    Age Group|         City|sum(Items Purchased)|  avg(Total Spend)|\n",
      "+---------------+-------------+-------------+--------------------+------------------+\n",
      "|         Silver|Between 35-50|  Los Angeles|                 288|            814.65|\n",
      "|         Bronze|Between 35-50|      Chicago|                 546| 499.8827586206897|\n",
      "|           Gold|     Under 35|     New York|                 901|1165.0355932203393|\n",
      "|         Silver|     Under 35|  Los Angeles|                 401| 799.2114285714289|\n",
      "|         Bronze|Between 35-50|      Houston|                 439|446.89482758620665|\n",
      "|         Silver|     Under 35|        Miami|                 675| 690.3896551724141|\n",
      "|           Gold|     Under 35|San Francisco|                1141|1460.4561403508774|\n",
      "|           Gold|Between 35-50|San Francisco|                  19|            1420.8|\n",
      "+---------------+-------------+-------------+--------------------+------------------+\n",
      "\n"
     ]
    }
   ],
   "source": [
    "# Create age groups\n",
    "customer_df_age_groups = customer_data.withColumn(\"Age Group\",\n",
    "                       when(customer_data[\"Age\"] < 35, \"Under 35\")\n",
    "                       .when((customer_data[\"Age\"] >= 35) & (customer_data[\"Age\"] <= 50), \"Between 35-50\")\n",
    "                       .otherwise(\"Over 50\"))\n",
    "\n",
    "# Group by Membership Type, Age Group, and City\n",
    "customer_segments = customer_df_age_groups.groupBy(\"Membership Type\", \"Age Group\", \"City\").agg({\n",
    "    \"Total Spend\": \"mean\",\n",
    "    \"Items Purchased\": \"sum\"\n",
    "})\n",
    "\n",
    "# Group by City separately\n",
    "city_segments = customer_df_age_groups.groupBy(\"City\").agg({\n",
    "    \"Total Spend\": \"mean\",\n",
    "    \"Items Purchased\": \"sum\"\n",
    "})\n",
    "\n",
    "# Show all segments in a single DataFrame\n",
    "print('Customer Segmentation Result :  ')\n",
    "customer_segments.show()"
   ]
  },
  {
   "cell_type": "markdown",
   "metadata": {},
   "source": [
    "### **Customer Segmentation based on 'City', and 'Item Purchased':**\n"
   ]
  },
  {
   "cell_type": "code",
   "execution_count": 315,
   "metadata": {},
   "outputs": [
    {
     "name": "stdout",
     "output_type": "stream",
     "text": [
      "+-------------+--------------------+------------------+\n",
      "|         City|sum(Items Purchased)|  avg(Total Spend)|\n",
      "+-------------+--------------------+------------------+\n",
      "|  Los Angeles|                 689| 805.4915254237288|\n",
      "|San Francisco|                1160|1459.7724137931039|\n",
      "|      Chicago|                 546| 499.8827586206897|\n",
      "|      Houston|                 439|446.89482758620665|\n",
      "|        Miami|                 675| 690.3896551724141|\n",
      "|     New York|                 901|1165.0355932203393|\n",
      "+-------------+--------------------+------------------+\n",
      "\n"
     ]
    }
   ],
   "source": [
    "# Show city segments separately\n",
    "city_segments.show()"
   ]
  },
  {
   "cell_type": "markdown",
   "metadata": {},
   "source": [
    "### **Customer Segmentation based on 'Membership', 'City', and 'Item Purchased':**\n"
   ]
  },
  {
   "cell_type": "code",
   "execution_count": 316,
   "metadata": {},
   "outputs": [
    {
     "data": {
      "image/png": "[encoded data removed]",
      "text/plain": [
       "<Figure size 1200x600 with 1 Axes>"
      ]
     },
     "metadata": {},
     "output_type": "display_data"
    }
   ],
   "source": [
    "# Convert Spark DataFrame to Pandas DataFrame\n",
    "customer_segments_pd = customer_segments.toPandas()\n",
    "\n",
    "# Plot Customer Segments\n",
    "plt.figure(figsize=(12, 6))\n",
    "for membership_type, group in customer_segments_pd.groupby('Membership Type'):\n",
    "    plt.bar(group['City'] , group['sum(Items Purchased)'], label=membership_type)\n",
    "customer_df\n",
    "plt.title('Customer Segments')\n",
    "plt.xlabel('City')\n",
    "plt.ylabel('Total Items Purchased')\n",
    "plt.legend(title='Membership Type')\n",
    "plt.show()"
   ]
  },
  {
   "cell_type": "markdown",
   "metadata": {},
   "source": [
    "## **Customer Segmentation Analysis based on 'Membership', 'Age', 'City', and 'Item Purchased':**\n",
    "\n",
    "#### ○ Gold Members (Under 35 in New York):\n",
    "\n",
    "      • Exhibit the highest average total spending (1165.04) and a substantial sum of items purchased (901) and Indication a potentially \n",
    "       high-value and loyal customer segment.\n",
    "\n",
    "#### ○ Silver Members (Under 35 in Los Angeles):\n",
    "\n",
    "      • Show a considerable sum of items purchased (401) and a moderate average total spending (799.21).\n",
    "      \n",
    "#### ○ Bronze Members (Between 35-50 in Chicago):\n",
    "\n",
    "      • Have a high sum of items purchased (546) but a relatively lower average total spending (499.88).\n",
    "\t\t\n"
   ]
  },
  {
   "cell_type": "markdown",
   "metadata": {},
   "source": [
    "### Customer Segmentation based on their 'Membership Type', 'Total Spend', and 'Items Purchased' **Using Kmeans**. "
   ]
  },
  {
   "cell_type": "code",
   "execution_count": 317,
   "metadata": {},
   "outputs": [
    {
     "name": "stdout",
     "output_type": "stream",
     "text": [
      "+---------------+-----------+---------------+\n",
      "|Membership Type|Total Spend|Items Purchased|\n",
      "+---------------+-----------+---------------+\n",
      "|           Gold|     1120.2|             14|\n",
      "|         Silver|      780.5|             11|\n",
      "|         Bronze|     510.75|              9|\n",
      "+---------------+-----------+---------------+\n",
      "only showing top 3 rows\n",
      "\n",
      "+---------------+-----------+---------------+---------------------+-----------------+\n",
      "|Membership Type|Total Spend|Items Purchased|Membership Type Index|         features|\n",
      "+---------------+-----------+---------------+---------------------+-----------------+\n",
      "|           Gold|     1120.2|             14|                  0.0|[0.0,1120.2,14.0]|\n",
      "|         Silver|      780.5|             11|                  1.0| [1.0,780.5,11.0]|\n",
      "|         Bronze|     510.75|              9|                  2.0| [2.0,510.75,9.0]|\n",
      "+---------------+-----------+---------------+---------------------+-----------------+\n",
      "only showing top 3 rows\n",
      "\n",
      "+---------------+-----------+---------------+---------------------+-----------------+--------------------+\n",
      "|Membership Type|Total Spend|Items Purchased|Membership Type Index|         features|     scaled_features|\n",
      "+---------------+-----------+---------------+---------------------+-----------------+--------------------+\n",
      "|           Gold|     1120.2|             14|                  0.0|[0.0,1120.2,14.0]|[0.0,3.0939734755...|\n",
      "|         Silver|      780.5|             11|                  1.0| [1.0,780.5,11.0]|[1.22387599240600...|\n",
      "|         Bronze|     510.75|              9|                  2.0| [2.0,510.75,9.0]|[2.44775198481201...|\n",
      "+---------------+-----------+---------------+---------------------+-----------------+--------------------+\n",
      "only showing top 3 rows\n",
      "\n"
     ]
    }
   ],
   "source": [
    "# split the columns we want to analyze\n",
    "customer_seg_data = customer_data['Membership Type', 'Total Spend', 'Items Purchased']\n",
    "customer_seg_data.show(3)\n",
    "\n",
    "# # Encoding 'Membership Type'\n",
    "customer_seg = customer_seg_data.replace(['Bronze', 'Silver', 'Gold'], ['0', '1', '2'], 'Membership Type')\n",
    "customer_seg = customer_seg.withColumn(\"Membership Type\", customer_seg['Membership Type'].cast('integer'))\n",
    "\n",
    "# Assemble features into a single vector\n",
    "assembler = VectorAssembler(inputCols=['Membership Type Index', 'Total Spend', 'Items Purchased'],\n",
    "                            outputCol=\"features\")\n",
    "customer_seg = assembler.transform(customer_seg_encoded)\n",
    "customer_seg.show(3)\n",
    "\n",
    "# Standardize features\n",
    "scaler = StandardScaler(inputCol=\"features\", outputCol=\"scaled_features\")\n",
    "scaler_model = scaler.fit(customer_seg)\n",
    "scaled_customer_seg = scaler_model.transform(customer_seg)\n",
    "scaled_customer_seg.show(3)"
   ]
  },
  {
   "cell_type": "code",
   "execution_count": 318,
   "metadata": {},
   "outputs": [
    {
     "data": {
      "image/png": "[encoded data removed]",
      "text/plain": [
       "<Figure size 800x550 with 1 Axes>"
      ]
     },
     "metadata": {},
     "output_type": "display_data"
    }
   ],
   "source": [
    "## Find the Best k splits for kmeans\n",
    "# Calculate inertia for different values of k\n",
    "inertia = []\n",
    "for k in range(2, 11):\n",
    "    kmeans = KMeans(k=k)\n",
    "    kmeans.setFeaturesCol(\"scaled_features\")\n",
    "    model = kmeans.fit(scaled_customer_seg)\n",
    "    inertia.append(model.summary.trainingCost)\n",
    "\n",
    "# Plot the inertia values\n",
    "plt.plot(range(2, 11), inertia, marker='o')\n",
    "plt.xlabel('Number of Clusters (k)')\n",
    "plt.ylabel('Inertia')\n",
    "plt.title('Elbow Method for Optimal k')\n",
    "plt.show()"
   ]
  },
  {
   "cell_type": "code",
   "execution_count": 319,
   "metadata": {},
   "outputs": [
    {
     "name": "stdout",
     "output_type": "stream",
     "text": [
      "Silhouette score: 0.9409567254207089\n"
     ]
    }
   ],
   "source": [
    "\n",
    "# Train KMeans model\n",
    "kmeans = KMeans(featuresCol=\"scaled_features\", k= 4, seed=42)  # I have tried 3 and 4, 4 is way higher in Silhouette score\n",
    "# Make predictions\n",
    "predictions = kmeans.fit(scaled_customer_seg).transform(scaled_customer_seg)\n",
    "\n",
    "# Evaluate clustering performance\n",
    "silhouette =  ClusteringEvaluator().evaluate(predictions)\n",
    "print(f\"Silhouette score: {silhouette}\")"
   ]
  },
  {
   "cell_type": "code",
   "execution_count": 320,
   "metadata": {},
   "outputs": [
    {
     "data": {
      "text/plain": [
       "prediction\n",
       "0    117\n",
       "1    116\n",
       "2     59\n",
       "3     58\n",
       "Name: count, dtype: int64"
      ]
     },
     "execution_count": 320,
     "metadata": {},
     "output_type": "execute_result"
    }
   ],
   "source": [
    "cluster_distribution = predictions.select(\"prediction\").toPandas()\n",
    "\n",
    "# Count the occurrences of each cluster label and Rename clusters\n",
    "cluster_distribution_counts = cluster_distribution[\"prediction\"].value_counts().sort_index()\n",
    "cluster_distribution_counts"
   ]
  },
  {
   "cell_type": "code",
   "execution_count": 302,
   "metadata": {},
   "outputs": [
    {
     "data": {
      "image/png": "[encoded data removed]",
      "text/plain": [
       "<Figure size 800x550 with 1 Axes>"
      ]
     },
     "metadata": {},
     "output_type": "display_data"
    },
    {
     "name": "stdout",
     "output_type": "stream",
     "text": [
      "\n",
      "Cluster 0 Sample:\n",
      "\n",
      "+---------------+-----------+---------------+\n",
      "|Membership Type|Total Spend|Items Purchased|\n",
      "+---------------+-----------+---------------+\n",
      "|         Silver|      780.5|             11|\n",
      "|         Silver|      720.4|             13|\n",
      "|         Silver|      800.9|             12|\n",
      "|         Silver|      690.3|             11|\n",
      "|         Silver|     820.75|             13|\n",
      "+---------------+-----------+---------------+\n",
      "only showing top 5 rows\n",
      "\n",
      "\n",
      "Cluster 0 Information:\n",
      "\n",
      "  summary Membership Type        Total Spend     Items Purchased\n",
      "0   count             117                117                 117\n",
      "1    mean            None  748.4324786324781  11.658119658119658\n",
      "2  stddev            None  60.59424951243999  1.1076722498757066\n",
      "3     min          Silver              660.3                  10\n",
      "4     max          Silver              830.9                  14\n",
      "\n",
      "Cluster 1 Sample:\n",
      "\n",
      "+---------------+-----------+---------------+\n",
      "|Membership Type|Total Spend|Items Purchased|\n",
      "+---------------+-----------+---------------+\n",
      "|         Bronze|     510.75|              9|\n",
      "|         Bronze|      440.8|              8|\n",
      "|         Bronze|     495.25|             10|\n",
      "|         Bronze|      470.5|              7|\n",
      "|         Bronze|      530.4|              9|\n",
      "+---------------+-----------+---------------+\n",
      "only showing top 5 rows\n",
      "\n",
      "\n",
      "Cluster 1 Information:\n",
      "\n",
      "  summary Membership Type         Total Spend    Items Purchased\n",
      "0   count             116                 116                116\n",
      "1    mean            None  473.38879310344856  8.491379310344827\n",
      "2  stddev            None   31.29943469846984  1.050843881634287\n",
      "3     min          Bronze               410.8                  7\n",
      "4     max          Bronze               530.4                 10\n",
      "\n",
      "Cluster 2 Sample:\n",
      "\n",
      "+---------------+-----------+---------------+\n",
      "|Membership Type|Total Spend|Items Purchased|\n",
      "+---------------+-----------+---------------+\n",
      "|           Gold|     1120.2|             14|\n",
      "|           Gold|     1150.6|             15|\n",
      "|           Gold|     1200.8|             16|\n",
      "|           Gold|     1170.3|             14|\n",
      "|           Gold|     1140.6|             15|\n",
      "+---------------+-----------+---------------+\n",
      "only showing top 5 rows\n",
      "\n",
      "\n",
      "Cluster 2 Information:\n",
      "\n",
      "  summary Membership Type         Total Spend     Items Purchased\n",
      "0   count              59                  59                  59\n",
      "1    mean            None  1165.0355932203393  15.271186440677965\n",
      "2  stddev            None  24.611861190896484  0.7618151752179042\n",
      "3     min            Gold              1120.2                  14\n",
      "4     max            Gold              1210.6                  17\n",
      "\n",
      "Cluster 3 Sample:\n",
      "\n",
      "+---------------+-----------+---------------+\n",
      "|Membership Type|Total Spend|Items Purchased|\n",
      "+---------------+-----------+---------------+\n",
      "|           Gold|     1480.3|             19|\n",
      "|           Gold|     1520.1|             21|\n",
      "|           Gold|     1360.2|             18|\n",
      "|           Gold|     1470.5|             20|\n",
      "|           Gold|     1500.1|             21|\n",
      "+---------------+-----------+---------------+\n",
      "only showing top 5 rows\n",
      "\n",
      "\n",
      "Cluster 3 Information:\n",
      "\n",
      "  summary Membership Type         Total Spend     Items Purchased\n",
      "0   count              58                  58                  58\n",
      "1    mean            None  1459.7724137931039                20.0\n",
      "2  stddev            None  42.241178018459294  1.0760551736979407\n",
      "3     min            Gold              1360.2                  18\n",
      "4     max            Gold              1520.1                  21\n"
     ]
    }
   ],
   "source": [
    "class_names = ['Cluster A', 'Cluster B', 'Cluster C', 'Cluster D']\n",
    "\n",
    "# Plot a pie chart\n",
    "plt.pie(cluster_distribution_counts, labels=class_names, autopct='%1.1f%%', startangle=90)\n",
    "plt.title('Cluster Distribution')\n",
    "plt.show()\n",
    "\n",
    "# Print information related to each cluster\n",
    "for cluster_label, count in cluster_distribution_counts.items():\n",
    "    cluster_items = predictions.filter(predictions['prediction'] == cluster_label).select(['Membership Type', 'Total Spend', 'Items Purchased'])\n",
    "    cluster_info = cluster_items.describe().toPandas()\n",
    "    print(f\"\\nCluster {cluster_label} Sample:\\n\")\n",
    "    cluster_items.show(5)\n",
    "    print(f\"\\nCluster {cluster_label} Information:\\n\")\n",
    "    print(cluster_info)\n"
   ]
  },
  {
   "cell_type": "markdown",
   "metadata": {},
   "source": [
    "## **Customer Segmentation Analysis based on 'Membership Type', 'Total Spend' and 'Items Purchased' :**\n",
    "\n",
    "#### ○ Cluster 0:\n",
    "    • Membership Type: All customers in this cluster have a membership type of 1.\n",
    "    • Total Spend: The average total spend is approximately $748.43 with a standard deviation of $60.59.\n",
    "    • Items Purchased: On average, customers in this cluster purchase around 11.66 items with a relatively low standard deviation.\n",
    "\n",
    "#### ○ Cluster 1:\n",
    "    • Membership Type: All customers in this cluster have a membership type of 0.\n",
    "    • Total Spend: The average total spend is around $473.39 with a standard deviation of $31.30.\n",
    "    • Items Purchased: On average, customers in this cluster purchase around 8.49 items with a standard deviation of 1.05.\n",
    "\n",
    "#### ○ Cluster 2:\n",
    "    • Membership Type: All customers in this cluster have a membership type of 2.\n",
    "    • Total Spend: The average total spend is approximately $1165.04 with a standard deviation of $24.61.\n",
    "    • Items Purchased: On average, customers in this cluster purchase around 15.27 items with a relatively low standard deviation.\n",
    "    \n",
    "#### ○ Cluster 3:\n",
    "    • Membership Type: All customers in this cluster have a membership type of 2.\n",
    "    • Total Spend: The average total spend is approximately $1459.77 with a standard deviation of $42.24.\n",
    "    • Items Purchased: On average, customers in this cluster purchase 20 items with a standard deviation of 1.08."
   ]
  },
  {
   "cell_type": "markdown",
   "metadata": {},
   "source": [
    "## Q2 : Which customers are at risk of not making future purchases based on their Days Since Last Purchase and Satisfaction Level"
   ]
  },
  {
   "cell_type": "code",
   "execution_count": 323,
   "metadata": {},
   "outputs": [
    {
     "name": "stdout",
     "output_type": "stream",
     "text": [
      "Customers at Risk Result : \n",
      "+-----------+------+---+-------+---------------+-----------+---------------+--------------+----------------+------------------------+------------------+\n",
      "|Customer ID|Gender|Age|   City|Membership Type|Total Spend|Items Purchased|Average Rating|Discount Applied|Days Since Last Purchase|Satisfaction Level|\n",
      "+-----------+------+---+-------+---------------+-----------+---------------+--------------+----------------+------------------------+------------------+\n",
      "|        103|Female| 43|Chicago|         Bronze|     510.75|              9|           3.4|            true|                      42|       Unsatisfied|\n",
      "|        105|  Male| 27|  Miami|         Silver|      720.4|             13|           4.0|            true|                      55|       Unsatisfied|\n",
      "|        109|Female| 41|Chicago|         Bronze|     495.25|             10|           3.6|            true|                      40|       Unsatisfied|\n",
      "|        111|  Male| 32|  Miami|         Silver|      690.3|             11|           3.8|            true|                      34|       Unsatisfied|\n",
      "|        115|Female| 42|Chicago|         Bronze|      530.4|              9|           3.5|            true|                      38|       Unsatisfied|\n",
      "|        117|  Male| 26|  Miami|         Silver|      700.6|             12|           3.7|            true|                      48|       Unsatisfied|\n",
      "|        121|Female| 43|Chicago|         Bronze|     505.75|             10|           3.3|            true|                      41|       Unsatisfied|\n",
      "|        123|  Male| 27|  Miami|         Silver|      710.4|             13|           4.1|            true|                      54|       Unsatisfied|\n",
      "|        127|Female| 41|Chicago|         Bronze|     485.25|              9|           3.6|            true|                      39|       Unsatisfied|\n",
      "|        129|  Male| 32|  Miami|         Silver|      670.3|             10|           3.8|            true|                      33|       Unsatisfied|\n",
      "|        133|Female| 42|Chicago|         Bronze|      520.4|              9|           3.5|            true|                      37|       Unsatisfied|\n",
      "|        135|  Male| 26|  Miami|         Silver|      690.6|             12|           3.9|            true|                      47|       Unsatisfied|\n",
      "|        139|Female| 43|Chicago|         Bronze|     500.75|             10|           3.3|            true|                      40|       Unsatisfied|\n",
      "|        141|  Male| 27|  Miami|         Silver|      700.4|             13|           4.0|            true|                      53|       Unsatisfied|\n",
      "|        145|Female| 41|Chicago|         Bronze|     480.25|              9|           3.6|            true|                      38|       Unsatisfied|\n",
      "|        147|  Male| 32|  Miami|         Silver|      680.3|             10|           3.8|            true|                      32|       Unsatisfied|\n",
      "|        151|Female| 43|Chicago|         Bronze|     505.75|             10|           3.3|            true|                      39|       Unsatisfied|\n",
      "|        153|  Male| 27|  Miami|         Silver|      710.4|             13|           4.1|            true|                      54|       Unsatisfied|\n",
      "|        157|Female| 41|Chicago|         Bronze|     485.25|              9|           3.6|            true|                      39|       Unsatisfied|\n",
      "|        159|  Male| 32|  Miami|         Silver|      670.3|             10|           3.8|            true|                      33|       Unsatisfied|\n",
      "+-----------+------+---+-------+---------------+-----------+---------------+--------------+----------------+------------------------+------------------+\n",
      "only showing top 20 rows\n",
      "\n"
     ]
    }
   ],
   "source": [
    "# Filtering customers at risk based on Days Since Last Purchase and Satisfaction Level\n",
    "at_risk_customers = customer_data.filter((customer_data[\"Days Since Last Purchase\"] > 30) & (customer_data[\"Satisfaction Level\"] == \"Unsatisfied\"))\n",
    "\n",
    "# Show customers at risk\n",
    "print('Customers at Risk Result : ')\n",
    "at_risk_customers.show()"
   ]
  },
  {
   "cell_type": "markdown",
   "metadata": {},
   "source": [
    "## **Customers Risk Analysis :**\n",
    "\n",
    "• The result provides a list of customers who have not made a purchase within the duration ranges from **32 to 55 days and have expressed**                  dissatisfaction.\n",
    "\n",
    "• The identified at-risk customers are primarily from the Bronze and Silver membership types.\n",
    "\n",
    "• Indicates that customers with lower-tier memberships might be more prone to dissatisfaction.\n",
    "\t\n",
    "\n"
   ]
  },
  {
   "cell_type": "markdown",
   "metadata": {},
   "source": [
    "# `04` Data Preprocessing"
   ]
  },
  {
   "cell_type": "markdown",
   "metadata": {},
   "source": [
    "## Drop Nulls and Customer IDs"
   ]
  },
  {
   "cell_type": "code",
   "execution_count": 324,
   "metadata": {},
   "outputs": [],
   "source": [
    "# Drop the \"Customer ID\" column\n",
    "customer_data = customer_data.drop(\"Customer ID\")\n",
    "# Handling missing values\n",
    "customer_data = customer_data.na.drop()"
   ]
  },
  {
   "cell_type": "markdown",
   "metadata": {},
   "source": [
    "\n",
    "## Encode Categorical Columns\n"
   ]
  },
  {
   "cell_type": "code",
   "execution_count": 325,
   "metadata": {},
   "outputs": [
    {
     "data": {
      "text/plain": [
       "['Gender', 'City', 'Membership Type', 'Satisfaction Level']"
      ]
     },
     "execution_count": 325,
     "metadata": {},
     "output_type": "execute_result"
    }
   ],
   "source": [
    "# Define string columns to be encoded\n",
    "string_cols = [col_name for col_name, data_type in customer_data.dtypes if data_type == \"string\"]\n",
    "string_cols"
   ]
  },
  {
   "cell_type": "code",
   "execution_count": 326,
   "metadata": {},
   "outputs": [],
   "source": [
    "# Fit StringIndexers on training set\n",
    "indexers = [StringIndexer(inputCol=col_name, outputCol=f\"{col_name}_index\", handleInvalid='skip').fit(customer_data) for col_name in string_cols]\n"
   ]
  },
  {
   "cell_type": "code",
   "execution_count": 327,
   "metadata": {},
   "outputs": [
    {
     "name": "stdout",
     "output_type": "stream",
     "text": [
      "+---+-----------+---------------+--------------+----------------+------------------------+------------+----------+---------------------+------------------------+\n",
      "|Age|Total Spend|Items Purchased|Average Rating|Discount Applied|Days Since Last Purchase|Gender_index|City_index|Membership Type_index|Satisfaction Level_index|\n",
      "+---+-----------+---------------+--------------+----------------+------------------------+------------+----------+---------------------+------------------------+\n",
      "| 29|     1120.2|             14|           4.6|            true|                      25|         1.0|       1.0|                  0.0|                     0.0|\n",
      "| 34|      780.5|             11|           4.1|           false|                      18|         0.0|       0.0|                  1.0|                     2.0|\n",
      "| 43|     510.75|              9|           3.4|            true|                      42|         1.0|       2.0|                  2.0|                     1.0|\n",
      "| 30|     1480.3|             19|           4.7|           false|                      12|         0.0|       4.0|                  0.0|                     0.0|\n",
      "| 27|      720.4|             13|           4.0|            true|                      55|         0.0|       3.0|                  1.0|                     1.0|\n",
      "+---+-----------+---------------+--------------+----------------+------------------------+------------+----------+---------------------+------------------------+\n",
      "only showing top 5 rows\n",
      "\n"
     ]
    }
   ],
   "source": [
    "# Apply transformations using transform method\n",
    "df_transformed = customer_data\n",
    "for indexer in indexers:\n",
    "    df_transformed = indexer.transform(df_transformed)\n",
    "\n",
    "# Drop the original string columns\n",
    "df_transformed = df_transformed.drop(*string_cols)\n",
    "df_transformed.show(5)"
   ]
  },
  {
   "cell_type": "code",
   "execution_count": 328,
   "metadata": {},
   "outputs": [
    {
     "name": "stdout",
     "output_type": "stream",
     "text": [
      "root\n",
      " |-- Age: integer (nullable = true)\n",
      " |-- Total Spend: double (nullable = true)\n",
      " |-- Items Purchased: integer (nullable = true)\n",
      " |-- Average Rating: double (nullable = true)\n",
      " |-- Discount Applied: boolean (nullable = true)\n",
      " |-- Days Since Last Purchase: integer (nullable = true)\n",
      " |-- Gender_index: double (nullable = false)\n",
      " |-- City_index: double (nullable = false)\n",
      " |-- Membership Type_index: double (nullable = false)\n",
      " |-- Satisfaction Level_index: double (nullable = false)\n",
      "\n"
     ]
    }
   ],
   "source": [
    "# check the types after encoding\n",
    "df_transformed.printSchema()"
   ]
  },
  {
   "cell_type": "markdown",
   "metadata": {},
   "source": [
    "## Train and Test Split \n"
   ]
  },
  {
   "cell_type": "code",
   "execution_count": 329,
   "metadata": {},
   "outputs": [
    {
     "name": "stdout",
     "output_type": "stream",
     "text": [
      "There are 295 rows in the training set, and 53 in the test set\n",
      "+---+-----------+---------------+--------------+----------------+------------------------+------------+----------+---------------------+\n",
      "|Age|Total Spend|Items Purchased|Average Rating|Discount Applied|Days Since Last Purchase|Gender_index|City_index|Membership Type_index|\n",
      "+---+-----------+---------------+--------------+----------------+------------------------+------------+----------+---------------------+\n",
      "| 26|      670.6|             12|           3.9|            true|                      46|         0.0|       3.0|                  1.0|\n",
      "| 26|      690.6|             12|           3.9|            true|                      47|         0.0|       3.0|                  1.0|\n",
      "| 26|      690.6|             12|           3.9|            true|                      47|         0.0|       3.0|                  1.0|\n",
      "+---+-----------+---------------+--------------+----------------+------------------------+------------+----------+---------------------+\n",
      "only showing top 3 rows\n",
      "\n"
     ]
    }
   ],
   "source": [
    "# Split the data into training and testing sets\n",
    "trainDF, testDF = df_transformed.randomSplit([.8, .2], seed=42)\n",
    "print(f\"There are {trainDF.count()} rows in the training set, and {testDF.count()} in the test set\")\n",
    "\n",
    "# Split target vector in train and test\n",
    "X_train = trainDF.drop(\"Satisfaction Level_index\")\n",
    "y_train = trainDF.select(\"Satisfaction Level_index\")\n",
    "X_test = testDF.drop(\"Satisfaction Level_index\")\n",
    "y_test = testDF.select(\"Satisfaction Level_index\")\n",
    "X_train.show(3)"
   ]
  },
  {
   "cell_type": "markdown",
   "metadata": {},
   "source": [
    "# `05` Model Pipeline Intialization\n",
    "- Create the logistic regression classifier.\n",
    "- Build the pipeline model that uses all feature engineering steps and the model.\n",
    "- Train the pipeline model using the trainig dataset."
   ]
  },
  {
   "cell_type": "markdown",
   "metadata": {},
   "source": [
    "## Vector Assembler\n"
   ]
  },
  {
   "cell_type": "code",
   "execution_count": 330,
   "metadata": {},
   "outputs": [],
   "source": [
    "vecAssembler = VectorAssembler(inputCols=X_train.columns, outputCol='features')"
   ]
  },
  {
   "cell_type": "markdown",
   "metadata": {},
   "source": [
    "## Logistic regression classifier"
   ]
  },
  {
   "cell_type": "code",
   "execution_count": 331,
   "metadata": {},
   "outputs": [],
   "source": [
    "#intialize the model\n",
    "Logistic_model = LogisticRegression(featuresCol='features',\n",
    "                                    labelCol='Satisfaction Level_index',\n",
    "                                    predictionCol='prediction')"
   ]
  },
  {
   "cell_type": "markdown",
   "metadata": {},
   "source": [
    "## Train the pipeline model using the trainig dataset"
   ]
  },
  {
   "cell_type": "code",
   "execution_count": 332,
   "metadata": {},
   "outputs": [],
   "source": [
    "# Create a pipeline with stages for StringIndexers, VectorAssembler, and Logistic Regression\n",
    "pipeline = Pipeline(stages=[vecAssembler, Logistic_model]).fit(trainDF)"
   ]
  },
  {
   "cell_type": "code",
   "execution_count": 333,
   "metadata": {},
   "outputs": [
    {
     "name": "stdout",
     "output_type": "stream",
     "text": [
      "Feature columns: ['Age', 'Total Spend', 'Items Purchased', 'Average Rating', 'Discount Applied', 'Days Since Last Purchase', 'Gender_index', 'City_index', 'Membership Type_index']\n"
     ]
    }
   ],
   "source": [
    "# Get the feature column names from the VectorAssembler stage to check we are not passing the target column\n",
    "feature_cols = pipeline.stages[0].getInputCols()\n",
    "# Display the feature column names\n",
    "print(\"Feature columns:\", feature_cols)"
   ]
  },
  {
   "cell_type": "code",
   "execution_count": 334,
   "metadata": {},
   "outputs": [
    {
     "name": "stdout",
     "output_type": "stream",
     "text": [
      "+----------+------------------------+\n",
      "|prediction|Satisfaction Level_index|\n",
      "+----------+------------------------+\n",
      "|       1.0|                     1.0|\n",
      "|       1.0|                     1.0|\n",
      "|       1.0|                     1.0|\n",
      "+----------+------------------------+\n",
      "only showing top 3 rows\n",
      "\n"
     ]
    }
   ],
   "source": [
    "predictions = pipeline.transform(testDF)\n",
    "predictions.select(['prediction', 'Satisfaction Level_index']).filter(fn.col('Satisfaction Level_index') == 1).show(3)"
   ]
  },
  {
   "cell_type": "markdown",
   "metadata": {},
   "source": [
    "# `06` Model Evaluation"
   ]
  },
  {
   "cell_type": "code",
   "execution_count": 335,
   "metadata": {},
   "outputs": [
    {
     "name": "stdout",
     "output_type": "stream",
     "text": [
      "Test-set Accuracy is :  1.0\n"
     ]
    }
   ],
   "source": [
    "# Evaluate the accuracy on the test set\n",
    "evaluator = MulticlassClassificationEvaluator(labelCol=\"Satisfaction Level_index\", predictionCol=\"prediction\", metricName=\"accuracy\")\n",
    "print(\"Test-set Accuracy is : \", evaluator.evaluate(predictions))"
   ]
  },
  {
   "cell_type": "code",
   "execution_count": 336,
   "metadata": {},
   "outputs": [
    {
     "name": "stderr",
     "output_type": "stream",
     "text": [
      "/home/salma/Desktop/M.Sc. Informatics- NU/big data/Assignment/Assignment 1/.venv/lib/python3.10/site-packages/pyspark/sql/context.py:158: FutureWarning: Deprecated in 3.0.0. Use SparkSession.builder.getOrCreate() instead.\n",
      "  warnings.warn(\n",
      "                                                                                \r"
     ]
    },
    {
     "data": {
      "text/plain": [
       "<Axes: >"
      ]
     },
     "execution_count": 336,
     "metadata": {},
     "output_type": "execute_result"
    },
    {
     "data": {
      "image/png": "[encoded data removed]",
      "text/plain": [
       "<Figure size 700x700 with 1 Axes>"
      ]
     },
     "metadata": {},
     "output_type": "display_data"
    }
   ],
   "source": [
    "# Convert predictions and Satisfaction Level_indexs to RDD for MulticlassMetrics\n",
    "prediction_and_Satisfaction = predictions.select(\"prediction\", \"Satisfaction Level_index\").rdd.map(lambda row: (float(row[\"prediction\"]), float(row[\"Satisfaction Level_index\"])))\n",
    "\n",
    "# Instantiate the MulticlassMetrics\n",
    "metrics = MulticlassMetrics(prediction_and_Satisfaction)\n",
    "\n",
    "# Get the confusion matrix\n",
    "confusion_matrix = metrics.confusionMatrix().toArray()\n",
    "\n",
    "# Plot the confusion matrix\n",
    "# Unsatisfied: 1, Satisfied: 0, Neutral: 2\n",
    "classes = [\"Satisfied\", \"Unsatisfied\", \"Neutral\"]\n",
    "_ = plt.figure(figsize=(7, 7))\n",
    "sns.heatmap(metrics.confusionMatrix().toArray(),\n",
    "            cmap='viridis',\n",
    "            annot=True,fmt='0',\n",
    "            cbar=False, \n",
    "            xticklabels=classes, \n",
    "            yticklabels=classes)"
   ]
  },
  {
   "cell_type": "markdown",
   "metadata": {},
   "source": [
    "Data seems to be a little bit perfect :D "
   ]
  }
 ],
 "metadata": {
  "kernelspec": {
   "display_name": "Python 3",
   "language": "python",
   "name": "python3"
  },
  "language_info": {
   "codemirror_mode": {
    "name": "ipython",
    "version": 3
   },
   "file_extension": ".py",
   "mimetype": "text/x-python",
   "name": "python",
   "nbconvert_exporter": "python",
   "pygments_lexer": "ipython3",
   "version": "3.10.12"
  }
 },
 "nbformat": 4,
 "nbformat_minor": 2
}
